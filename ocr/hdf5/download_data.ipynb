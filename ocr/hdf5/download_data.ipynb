{
 "nbformat": 4,
 "nbformat_minor": 0,
 "metadata": {
  "colab": {
   "name": "read_data.ipynb",
   "provenance": [],
   "machine_shape": "hm"
  },
  "kernelspec": {
   "name": "python3",
   "display_name": "Python 3"
  },
  "accelerator": "GPU",
  "pycharm": {
   "stem_cell": {
    "cell_type": "raw",
    "source": [],
    "metadata": {
     "collapsed": false
    }
   }
  }
 },
 "cells": [
  {
   "cell_type": "markdown",
   "metadata": {
    "id": "mrbkRqlHGuwx",
    "colab_type": "text"
   },
   "source": [
    "# Download data to Colab\n",
    "\n",
    "This notebook shows how to download the hackathon data to the Colab drive.\n"
   ]
  },
  {
   "cell_type": "code",
   "metadata": {
    "id": "UWGBdBG-Gq5u",
    "colab_type": "code",
    "colab": {}
   },
   "source": [
    "import os\n",
    "from pydrive.auth import GoogleAuth\n",
    "from pydrive.drive import GoogleDrive\n",
    "from google.colab import auth\n",
    "from oauth2client.client import GoogleCredentials\n",
    "\n",
    "# Authenticate and create the PyDrive client.\n",
    "# This only needs to be done once per notebook.\n",
    "auth.authenticate_user()\n",
    "gauth = GoogleAuth()\n",
    "gauth.credentials = GoogleCredentials.get_application_default()\n",
    "drive = GoogleDrive(gauth)\n",
    "\n",
    "# wrapper to cut & paste \"shareable link\"\n",
    "def download_drive_file(file_share_link):\n",
    "  file_id = file_share_link[file_share_link.find(\"=\") + 1:]\n",
    "  file = drive.CreateFile({'id': file_id }) #DRIVE_FILE_ID is file id example: 1iytA1n2z4go3uVCwE_vIKouTKyIDjEq\n",
    "  fname = file['title']\n",
    "  if not os.path.exists(fname):\n",
    "    file.GetContentFile(fname)  # Save Drive file as a local file"
   ],
   "execution_count": 0,
   "outputs": []
  },
  {
   "cell_type": "code",
   "metadata": {
    "id": "gr2ZtCl1HPut",
    "colab_type": "code",
    "colab": {
     "base_uri": "https://localhost:8080/",
     "height": 72
    },
    "outputId": "b9e6ee66-14e8-4d3e-bf33-5b5bd8bec5ed"
   },
   "source": [
    "!ls -l"
   ],
   "execution_count": 2,
   "outputs": [
    {
     "output_type": "stream",
     "text": [
      "total 8\n",
      "-rw-r--r-- 1 root root 2624 Nov 10 16:21 adc.json\n",
      "drwxr-xr-x 1 root root 4096 Nov  6 16:17 sample_data\n"
     ],
     "name": "stdout"
    }
   ]
  },
  {
   "cell_type": "code",
   "metadata": {
    "id": "FX3-Ai_3G3bx",
    "colab_type": "code",
    "colab": {
     "base_uri": "https://localhost:8080/",
     "height": 109
    },
    "outputId": "bdaad535-bc2d-4dcf-e57b-5e96df3a9e87"
   },
   "source": [
    "# download the data\n",
    "download_drive_file(\"https://drive.google.com/open?id=15D6EmC3XTPhPERfR8I6nfy-4dbZiKW_z\") # training set\n",
    "download_drive_file(\"https://drive.google.com/open?id=1IoZiRUvH3eu5SymQYG6MfhzIwxEMZFYg\") # training gold\n",
    "!ls -l"
   ],
   "execution_count": 14,
   "outputs": [
    {
     "output_type": "stream",
     "text": [
      "total 6398364\n",
      "-rw-r--r-- 1 root root       2624 Nov 10 16:21 adc.json\n",
      "drwxr-xr-x 1 root root       4096 Nov  6 16:17 sample_data\n",
      "-rw-r--r-- 1 root root  101477907 Nov 10 16:35 train_gold.tsv\n",
      "-rw-r--r-- 1 root root 6450432334 Nov 10 16:35 train.h5\n"
     ],
     "name": "stdout"
    }
   ]
  },
  {
   "cell_type": "code",
   "metadata": {
    "id": "zo_z3b03H4ZZ",
    "colab_type": "code",
    "colab": {
     "base_uri": "https://localhost:8080/",
     "height": 146
    },
    "outputId": "476b47d2-d407-4f8d-b37c-0fe75bd96d5e"
   },
   "source": [
    "import h5py\n",
    "from pandas import read_csv\n",
    "import numpy as np\n",
    "\n",
    "labels = read_csv('train_gold.tsv', delimiter='\\t', index_col=0, names=['reference'])\n",
    "\n",
    "print(labels.head(5))\n",
    "\n",
    "with h5py.File('train.h5') as f:\n",
    "  assert(labels.shape[0] == f['id'].shape[0])\n",
    "  assert(labels.shape[0] == f['img'].shape[0])\n",
    "  assert(labels.shape[0] == f['shape'].shape[0])\n",
    "  assert(labels.index.isin(np.asarray(f['id'])).all())\n",
    "  \n",
    "print('Dataset info is OK')\n"
   ],
   "execution_count": 2,
   "outputs": [
    {
     "output_type": "stream",
     "text": [
      "        reference\n",
      "1655573  posible,\n",
      "1655574      Jose\n",
      "1655575        de\n",
      "1655576   OFICINA\n",
      "1655577        Gu\n",
      "Dataset info is OK\n"
     ],
     "name": "stdout"
    }
   ]
  }
 ]
}